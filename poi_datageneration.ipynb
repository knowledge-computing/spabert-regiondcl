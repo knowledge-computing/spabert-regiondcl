{
 "cells": [
  {
   "cell_type": "code",
   "execution_count": null,
   "metadata": {},
   "outputs": [],
   "source": [
    "import json\n",
    "import pandas as pd\n",
    "import geopandas as gpd\n",
    "from shapely.geometry import Point\n",
    "import scipy.spatial as scp"
   ]
  },
  {
   "cell_type": "code",
   "execution_count": null,
   "metadata": {},
   "outputs": [],
   "source": [
    "state_frame = gpd.read_file('/media/isri/T7/Region/RegionDCL/data/projected/Singapore/poi/poi.shp')"
   ]
  },
  {
   "cell_type": "code",
   "execution_count": null,
   "metadata": {},
   "outputs": [],
   "source": [
    "df = state_frame[['fclass', 'code', 'geometry']]\n",
    "subset= df.copy()\n",
    "subset['latitude'] = subset['geometry'].apply(lambda x: x.y)\n",
    "subset['longitude'] = subset['geometry'].apply(lambda x: x.x)\n",
    "subset['name'] = subset['fclass']"
   ]
  },
  {
   "cell_type": "code",
   "execution_count": null,
   "metadata": {},
   "outputs": [],
   "source": [
    "poi_csv = subset[['name', 'latitude', 'longitude']].copy()\n",
    "poi_csv.to_csv('poi_sg.csv')"
   ]
  },
  {
   "cell_type": "code",
   "execution_count": null,
   "metadata": {},
   "outputs": [],
   "source": [
    "name_list = []\n",
    "coordinate_list = []\n",
    "for i, item in subset.iterrows():\n",
    "    name_list.append(item['name'])\n",
    "    coordinate_list.append([item['longitude'], item['latitude']])"
   ]
  },
  {
   "cell_type": "code",
   "execution_count": null,
   "metadata": {},
   "outputs": [],
   "source": [
    "ordered_coordinates = scp.cKDTree(coordinate_list)"
   ]
  },
  {
   "cell_type": "code",
   "execution_count": null,
   "metadata": {},
   "outputs": [],
   "source": [
    "with open('SPABERT_finetuning_data(seoul_5).json', 'w') as out_f:\n",
    "    for i, item in subset.iterrows():\n",
    "        name = item['name']\n",
    "        lat = item['latitude']\n",
    "        lon = item['longitude']\n",
    "        coordinates = [lon, lat]\n",
    "        \n",
    "        _, nearest_neighors_idx = ordered_coordinates.query([coordinates], k=5)\n",
    "        \n",
    "        nearest_name = []\n",
    "        nearest_coordinates = []\n",
    "        \n",
    "        for idx in nearest_neighors_idx[0]:\n",
    "            neighbor_name = name_list[idx]\n",
    "            neighbor_coordinates = coordinate_list[idx]\n",
    "            nearest_name.append(neighbor_name)\n",
    "            nearest_coordinates.append({'coordinates': neighbor_coordinates})\n",
    "            \n",
    "        neighbor_info = {'name_list': nearest_name, 'geometry_list': nearest_coordinates}\n",
    "        \n",
    "        place = {'info':{'name': name, 'geometry':{'coordinates': coordinates}}, 'neighbor_info': neighbor_info}\n",
    "        \n",
    "        out_f.write(json.dumps(place))\n",
    "        out_f.write('\\n')"
   ]
  }
 ],
 "metadata": {
  "language_info": {
   "name": "python"
  }
 },
 "nbformat": 4,
 "nbformat_minor": 2
}
